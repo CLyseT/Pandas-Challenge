{
 "cells": [
  {
   "cell_type": "code",
   "execution_count": 3,
   "metadata": {},
   "outputs": [],
   "source": [
    "#Import Pandas\n",
    "\n",
    "import pandas as pd"
   ]
  },
  {
   "cell_type": "code",
   "execution_count": 45,
   "metadata": {},
   "outputs": [
    {
     "name": "stdout",
     "output_type": "stream",
     "text": [
      "     Purchase ID             SN  Age  Gender  Item ID  \\\n",
      "0              0        Lisim78   20    Male      108   \n",
      "1              1    Lisovynya38   40    Male      143   \n",
      "2              2     Ithergue48   24    Male       92   \n",
      "3              3  Chamassasya86   24    Male      100   \n",
      "4              4      Iskosia90   23    Male      131   \n",
      "..           ...            ...  ...     ...      ...   \n",
      "775          775     Aethedru70   21  Female       60   \n",
      "776          776         Iral74   21    Male      164   \n",
      "777          777     Yathecal72   20    Male       67   \n",
      "778          778        Sisur91    7    Male       92   \n",
      "779          779      Ennrian78   24    Male       50   \n",
      "\n",
      "                                     Item Name  Price  \n",
      "0    Extraction, Quickblade Of Trembling Hands   3.53  \n",
      "1                            Frenzied Scimitar   1.56  \n",
      "2                                 Final Critic   4.88  \n",
      "3                                  Blindscythe   3.27  \n",
      "4                                         Fury   1.44  \n",
      "..                                         ...    ...  \n",
      "775                                       Wolf   3.54  \n",
      "776                           Exiled Doomblade   1.63  \n",
      "777      Celeste, Incarnation of the Corrupted   3.46  \n",
      "778                               Final Critic   4.19  \n",
      "779                                       Dawn   4.60  \n",
      "\n",
      "[780 rows x 7 columns]\n"
     ]
    }
   ],
   "source": [
    "#Extract Data\n",
    "\n",
    "pymoli_file = \"Resources/purchase_data.csv\"\n",
    "pymoli_file_df = pd.read_csv(pymoli_file)\n",
    "print(pymoli_file_df)"
   ]
  },
  {
   "cell_type": "code",
   "execution_count": 9,
   "metadata": {},
   "outputs": [
    {
     "name": "stdout",
     "output_type": "stream",
     "text": [
      "576\n"
     ]
    }
   ],
   "source": [
    "#Number Of Players\n",
    "\n",
    "total_players = len(pymoli_file_df[\"SN\"].unique())\n",
    "print(total_players)"
   ]
  },
  {
   "cell_type": "code",
   "execution_count": 17,
   "metadata": {},
   "outputs": [
    {
     "name": "stdout",
     "output_type": "stream",
     "text": [
      "   Total Players\n",
      "0            576\n"
     ]
    }
   ],
   "source": [
    "#Total Number Of Players Dataframe\n",
    "\n",
    "total_players_df = pd.DataFrame({\"Total Players\": [576]})\n",
    "print(total_players_df)"
   ]
  },
  {
   "cell_type": "code",
   "execution_count": 18,
   "metadata": {},
   "outputs": [
    {
     "name": "stdout",
     "output_type": "stream",
     "text": [
      "179\n"
     ]
    }
   ],
   "source": [
    "#Number Of Unique Items\n",
    "\n",
    "unique_items = len(pymoli_file_df[\"Item Name\"].unique())\n",
    "print(unique_items)"
   ]
  },
  {
   "cell_type": "code",
   "execution_count": 19,
   "metadata": {},
   "outputs": [
    {
     "name": "stdout",
     "output_type": "stream",
     "text": [
      "3.050987179487176\n"
     ]
    }
   ],
   "source": [
    "#Average Purchase Price \n",
    "\n",
    "average_price = pymoli_file_df[\"Price\"].mean()\n",
    "print(average_price)"
   ]
  },
  {
   "cell_type": "code",
   "execution_count": 21,
   "metadata": {},
   "outputs": [
    {
     "name": "stdout",
     "output_type": "stream",
     "text": [
      "780\n"
     ]
    }
   ],
   "source": [
    "#Total Number Of Purchases\n",
    "\n",
    "total_purchases = len(pymoli_file_df[\"Purchase ID\"].unique())\n",
    "print(total_purchases)"
   ]
  },
  {
   "cell_type": "code",
   "execution_count": 22,
   "metadata": {},
   "outputs": [
    {
     "name": "stdout",
     "output_type": "stream",
     "text": [
      "2379.77\n"
     ]
    }
   ],
   "source": [
    "#Sum Of Price\n",
    "\n",
    "total_price = pymoli_file_df[\"Price\"].sum()\n",
    "print(total_price)"
   ]
  },
  {
   "cell_type": "code",
   "execution_count": 31,
   "metadata": {},
   "outputs": [
    {
     "name": "stdout",
     "output_type": "stream",
     "text": [
      "   Unique Items Average Price  Total Purchases Sum of Price\n",
      "0           179         $3.05              780    $2,379.77\n"
     ]
    }
   ],
   "source": [
    "#Purchase Analysis DataFrame\n",
    "\n",
    "data_analysis_df = pd.DataFrame({\"Unique Items\": [179], \"Average Price\": [\"$3.05\"], \"Total Purchases\": [780], \"Sum of Price\": [\"$2,379.77\"]})\n",
    "print(data_analysis_df)"
   ]
  },
  {
   "cell_type": "code",
   "execution_count": 57,
   "metadata": {},
   "outputs": [
    {
     "name": "stdout",
     "output_type": "stream",
     "text": [
      "     Purchase ID             SN  Age  Gender  Item ID  \\\n",
      "0              0        Lisim78   20    Male      108   \n",
      "1              1    Lisovynya38   40    Male      143   \n",
      "2              2     Ithergue48   24    Male       92   \n",
      "3              3  Chamassasya86   24    Male      100   \n",
      "4              4      Iskosia90   23    Male      131   \n",
      "..           ...            ...  ...     ...      ...   \n",
      "773          773         Hala31   21    Male       19   \n",
      "774          774     Jiskjask80   11    Male       92   \n",
      "775          775     Aethedru70   21  Female       60   \n",
      "777          777     Yathecal72   20    Male       67   \n",
      "778          778        Sisur91    7    Male       92   \n",
      "\n",
      "                                     Item Name  Price  \n",
      "0    Extraction, Quickblade Of Trembling Hands   3.53  \n",
      "1                            Frenzied Scimitar   1.56  \n",
      "2                                 Final Critic   4.88  \n",
      "3                                  Blindscythe   3.27  \n",
      "4                                         Fury   1.44  \n",
      "..                                         ...    ...  \n",
      "773              Pursuit, Cudgel of Necromancy   1.02  \n",
      "774                               Final Critic   4.19  \n",
      "775                                       Wolf   3.54  \n",
      "777      Celeste, Incarnation of the Corrupted   3.46  \n",
      "778                               Final Critic   4.19  \n",
      "\n",
      "[576 rows x 7 columns]\n"
     ]
    }
   ],
   "source": [
    "#Dropping Duplicate Names\n",
    "\n",
    "new_data = pymoli_file_df.drop_duplicates(subset=[\"SN\"])\n",
    "print(new_data)"
   ]
  },
  {
   "cell_type": "code",
   "execution_count": 58,
   "metadata": {},
   "outputs": [
    {
     "name": "stdout",
     "output_type": "stream",
     "text": [
      "     Purchase ID             SN  Age Gender  Item ID  \\\n",
      "0              0        Lisim78   20   Male      108   \n",
      "1              1    Lisovynya38   40   Male      143   \n",
      "2              2     Ithergue48   24   Male       92   \n",
      "3              3  Chamassasya86   24   Male      100   \n",
      "4              4      Iskosia90   23   Male      131   \n",
      "..           ...            ...  ...    ...      ...   \n",
      "771          771   Iskossasda43   16   Male       25   \n",
      "773          773         Hala31   21   Male       19   \n",
      "774          774     Jiskjask80   11   Male       92   \n",
      "777          777     Yathecal72   20   Male       67   \n",
      "778          778        Sisur91    7   Male       92   \n",
      "\n",
      "                                     Item Name  Price  \n",
      "0    Extraction, Quickblade Of Trembling Hands   3.53  \n",
      "1                            Frenzied Scimitar   1.56  \n",
      "2                                 Final Critic   4.88  \n",
      "3                                  Blindscythe   3.27  \n",
      "4                                         Fury   1.44  \n",
      "..                                         ...    ...  \n",
      "771                                  Hero Cane   4.35  \n",
      "773              Pursuit, Cudgel of Necromancy   1.02  \n",
      "774                               Final Critic   4.19  \n",
      "777      Celeste, Incarnation of the Corrupted   3.46  \n",
      "778                               Final Critic   4.19  \n",
      "\n",
      "[484 rows x 7 columns]\n"
     ]
    }
   ],
   "source": [
    "# Male Players\n",
    "\n",
    "m_players = new_data.loc[new_data[\"Gender\"] == \"Male\", :]\n",
    "print(m_players)"
   ]
  },
  {
   "cell_type": "code",
   "execution_count": 59,
   "metadata": {},
   "outputs": [
    {
     "name": "stdout",
     "output_type": "stream",
     "text": [
      "484\n"
     ]
    }
   ],
   "source": [
    "print(len(m_players))"
   ]
  },
  {
   "cell_type": "code",
   "execution_count": 67,
   "metadata": {},
   "outputs": [
    {
     "name": "stdout",
     "output_type": "stream",
     "text": [
      "84.02777777777779\n"
     ]
    }
   ],
   "source": [
    "percentage_m_players = 484 / 576 * 100\n",
    "print(percentage_m_players)"
   ]
  },
  {
   "cell_type": "code",
   "execution_count": 68,
   "metadata": {},
   "outputs": [
    {
     "name": "stdout",
     "output_type": "stream",
     "text": [
      "     Purchase ID              SN  Age  Gender  Item ID  \\\n",
      "15            15       Lisassa64   21  Female       98   \n",
      "18            18       Reunasu60   22  Female       82   \n",
      "38            38        Reulae52   10  Female      116   \n",
      "41            41       Assosia88   20  Female        7   \n",
      "55            55       Phaelap26   25  Female       84   \n",
      "..           ...             ...  ...     ...      ...   \n",
      "697          697  Tyaelistidru84   19  Female        1   \n",
      "698          698     Yarithrin84   30  Female       58   \n",
      "699          699       Tyaelly53   17  Female      130   \n",
      "731          731        Eudanu84   22  Female       12   \n",
      "775          775      Aethedru70   21  Female       60   \n",
      "\n",
      "                             Item Name  Price  \n",
      "15         Deadline, Voice Of Subtlety   2.89  \n",
      "18                             Nirvana   4.90  \n",
      "38             Renewed Skeletal Katana   4.18  \n",
      "41        Thorn, Satchel of Dark Souls   1.33  \n",
      "55                          Arcane Gem   3.79  \n",
      "..                                 ...    ...  \n",
      "697                           Crucifer   3.26  \n",
      "698  Freak's Bite, Favor of Holy Might   4.14  \n",
      "699                              Alpha   2.07  \n",
      "731                              Dawne   1.02  \n",
      "775                               Wolf   3.54  \n",
      "\n",
      "[81 rows x 7 columns]\n"
     ]
    }
   ],
   "source": [
    "# Female Players\n",
    "\n",
    "f_players = new_data.loc[new_data[\"Gender\"] == \"Female\", :]\n",
    "print(f_players)"
   ]
  },
  {
   "cell_type": "code",
   "execution_count": 69,
   "metadata": {},
   "outputs": [
    {
     "name": "stdout",
     "output_type": "stream",
     "text": [
      "81\n"
     ]
    }
   ],
   "source": [
    "print(len(f_players))"
   ]
  },
  {
   "cell_type": "code",
   "execution_count": 72,
   "metadata": {},
   "outputs": [
    {
     "name": "stdout",
     "output_type": "stream",
     "text": [
      "14.0625\n"
     ]
    }
   ],
   "source": [
    "percentage_f_players = 81 / 576 * 100\n",
    "print(percentage_f_players)"
   ]
  },
  {
   "cell_type": "code",
   "execution_count": 70,
   "metadata": {},
   "outputs": [
    {
     "name": "stdout",
     "output_type": "stream",
     "text": [
      "     Purchase ID            SN  Age                 Gender  Item ID  \\\n",
      "9              9   Chanosian48   35  Other / Non-Disclosed      136   \n",
      "22            22  Siarithria38   38  Other / Non-Disclosed       24   \n",
      "82            82    Haerithp41   16  Other / Non-Disclosed      160   \n",
      "111          111      Sundim98   21  Other / Non-Disclosed       41   \n",
      "228          228   Jiskirran77   20  Other / Non-Disclosed       80   \n",
      "237          237     Idairin51   20  Other / Non-Disclosed       16   \n",
      "242          242     Eodaisu60   16  Other / Non-Disclosed       39   \n",
      "350          350     Rairith81   15  Other / Non-Disclosed       34   \n",
      "401          401      Lirtim36   15  Other / Non-Disclosed       46   \n",
      "549          549    Maluncil97   25  Other / Non-Disclosed      146   \n",
      "637          637        Airi27   24  Other / Non-Disclosed      163   \n",
      "\n",
      "                                Item Name  Price  \n",
      "9            Ghastly Adamantite Protector   3.58  \n",
      "22                          Warped Fetish   3.81  \n",
      "82                             Azurewrath   4.40  \n",
      "111                                 Orbit   4.75  \n",
      "228                             Dreamsong   3.39  \n",
      "237                       Restored Bauble   3.55  \n",
      "242  Betrayal, Whisper of Grieving Widows   3.94  \n",
      "350                       Retribution Axe   2.22  \n",
      "401               Hopeless Ebon Dualblade   1.33  \n",
      "549                  Warped Iron Scimitar   3.10  \n",
      "637                  Thunderfury Scimitar   3.45  \n"
     ]
    }
   ],
   "source": [
    "# Other Players\n",
    "\n",
    "n_players = new_data.loc[new_data[\"Gender\"] == \"Other / Non-Disclosed\", :]\n",
    "print(n_players)"
   ]
  },
  {
   "cell_type": "code",
   "execution_count": 71,
   "metadata": {},
   "outputs": [
    {
     "name": "stdout",
     "output_type": "stream",
     "text": [
      "11\n"
     ]
    }
   ],
   "source": [
    "print(len(n_players))"
   ]
  },
  {
   "cell_type": "code",
   "execution_count": 73,
   "metadata": {},
   "outputs": [
    {
     "name": "stdout",
     "output_type": "stream",
     "text": [
      "1.9097222222222223\n"
     ]
    }
   ],
   "source": [
    "percentage_n_players = 11 / 576 * 100\n",
    "print(percentage_n_players)"
   ]
  },
  {
   "cell_type": "code",
   "execution_count": 74,
   "metadata": {},
   "outputs": [
    {
     "name": "stdout",
     "output_type": "stream",
     "text": [
      "            Type  Total Count Percentage of Player\n",
      "0           Male          484                  84%\n",
      "1         Female           81                  14%\n",
      "2  Non-Disclosed           11                1.91%\n"
     ]
    }
   ],
   "source": [
    "# Gender Demographic DataFrame\n",
    "\n",
    "gender_demo_df = pd.DataFrame({\"Type\": [\"Male\", \"Female\", \"Non-Disclosed\"], \"Total Count\": [484 , 81, 11], \"Percentage of Player\": [\"84%\", \"14%\", \"1.91%\"]})\n",
    "print(gender_demo_df)"
   ]
  },
  {
   "cell_type": "code",
   "execution_count": 77,
   "metadata": {},
   "outputs": [
    {
     "name": "stdout",
     "output_type": "stream",
     "text": [
      "Purchase ID    652\n",
      "SN             652\n",
      "Age            652\n",
      "Gender         652\n",
      "Item ID        652\n",
      "Item Name      652\n",
      "Price          652\n",
      "dtype: int64\n"
     ]
    }
   ],
   "source": [
    "# Male Purchase Count\n",
    "\n",
    "m_player_counts = pymoli_file_df.loc[pymoli_file_df[\"Gender\"] == \"Male\", :]\n",
    "print(m_player_counts.count())\n"
   ]
  },
  {
   "cell_type": "code",
   "execution_count": 78,
   "metadata": {},
   "outputs": [
    {
     "name": "stdout",
     "output_type": "stream",
     "text": [
      "Purchase ID    113\n",
      "SN             113\n",
      "Age            113\n",
      "Gender         113\n",
      "Item ID        113\n",
      "Item Name      113\n",
      "Price          113\n",
      "dtype: int64\n"
     ]
    }
   ],
   "source": [
    "# Female Purchase Count\n",
    "\n",
    "f_player_counts = pymoli_file_df.loc[pymoli_file_df[\"Gender\"] == \"Female\", :]\n",
    "print(f_player_counts.count())"
   ]
  },
  {
   "cell_type": "code",
   "execution_count": 80,
   "metadata": {},
   "outputs": [
    {
     "name": "stdout",
     "output_type": "stream",
     "text": [
      "Purchase ID    15\n",
      "SN             15\n",
      "Age            15\n",
      "Gender         15\n",
      "Item ID        15\n",
      "Item Name      15\n",
      "Price          15\n",
      "dtype: int64\n"
     ]
    }
   ],
   "source": [
    "# Non-Disclosed Purchase Count\n",
    "\n",
    "n_player_counts = pymoli_file_df.loc[pymoli_file_df[\"Gender\"] == \"Other / Non-Disclosed\", :]\n",
    "print(n_player_counts.count())"
   ]
  },
  {
   "cell_type": "code",
   "execution_count": 82,
   "metadata": {},
   "outputs": [
    {
     "name": "stdout",
     "output_type": "stream",
     "text": [
      "3.0178527607361953\n"
     ]
    }
   ],
   "source": [
    "# Average Male Purchase Price\n",
    "\n",
    "m_player_price = pymoli_file_df.loc[pymoli_file_df[\"Gender\"] == \"Male\", :]\n",
    "print(m_player_price[\"Price\"].mean())"
   ]
  },
  {
   "cell_type": "code",
   "execution_count": 83,
   "metadata": {},
   "outputs": [
    {
     "name": "stdout",
     "output_type": "stream",
     "text": [
      "3.203008849557519\n"
     ]
    }
   ],
   "source": [
    "# Average Female Purchase Price\n",
    "\n",
    "f_player_price = pymoli_file_df.loc[pymoli_file_df[\"Gender\"] == \"Female\", :]\n",
    "print(f_player_price[\"Price\"].mean())"
   ]
  },
  {
   "cell_type": "code",
   "execution_count": 84,
   "metadata": {},
   "outputs": [
    {
     "name": "stdout",
     "output_type": "stream",
     "text": [
      "3.3460000000000005\n"
     ]
    }
   ],
   "source": [
    "# Average Non-Disclosed Purchase Price\n",
    "\n",
    "n_player_price = pymoli_file_df.loc[pymoli_file_df[\"Gender\"] == \"Other / Non-Disclosed\", :]\n",
    "print(n_player_price[\"Price\"].mean())"
   ]
  },
  {
   "cell_type": "code",
   "execution_count": 86,
   "metadata": {},
   "outputs": [
    {
     "name": "stdout",
     "output_type": "stream",
     "text": [
      "1967.64\n"
     ]
    }
   ],
   "source": [
    "# Total Male Purchase Value\n",
    "\n",
    "m_player_value = pymoli_file_df.loc[pymoli_file_df[\"Gender\"] == \"Male\", :]\n",
    "print(m_player_value[\"Price\"].sum())"
   ]
  },
  {
   "cell_type": "code",
   "execution_count": 87,
   "metadata": {},
   "outputs": [
    {
     "name": "stdout",
     "output_type": "stream",
     "text": [
      "361.94\n"
     ]
    }
   ],
   "source": [
    "# Total Female Purchase Value\n",
    "\n",
    "f_player_value = pymoli_file_df.loc[pymoli_file_df[\"Gender\"] == \"Female\", :]\n",
    "print(f_player_value[\"Price\"].sum())"
   ]
  },
  {
   "cell_type": "code",
   "execution_count": 88,
   "metadata": {},
   "outputs": [
    {
     "name": "stdout",
     "output_type": "stream",
     "text": [
      "50.19\n"
     ]
    }
   ],
   "source": [
    "# Total Non-Disclosed Purchase Value\n",
    "\n",
    "n_player_value = pymoli_file_df.loc[pymoli_file_df[\"Gender\"] == \"Other / Non-Disclosed\", :]\n",
    "print(n_player_value[\"Price\"].sum())"
   ]
  },
  {
   "cell_type": "code",
   "execution_count": 93,
   "metadata": {},
   "outputs": [
    {
     "name": "stdout",
     "output_type": "stream",
     "text": [
      "4.065371900826446\n"
     ]
    }
   ],
   "source": [
    "# Average Purchase Total Per Male\n",
    "\n",
    "m_average_price = 1967.64 / 484\n",
    "print(m_average_price)"
   ]
  },
  {
   "cell_type": "code",
   "execution_count": 94,
   "metadata": {},
   "outputs": [
    {
     "name": "stdout",
     "output_type": "stream",
     "text": [
      "4.468395061728395\n"
     ]
    }
   ],
   "source": [
    "# Average Purchase Total Per Female\n",
    "\n",
    "f_average_price = 361.94 / 81\n",
    "print(f_average_price)"
   ]
  },
  {
   "cell_type": "code",
   "execution_count": 95,
   "metadata": {},
   "outputs": [
    {
     "name": "stdout",
     "output_type": "stream",
     "text": [
      "4.5627272727272725\n"
     ]
    }
   ],
   "source": [
    "# Average Purchase Total Per Other\n",
    "\n",
    "n_average_price = 50.19 / 11\n",
    "print(n_average_price)"
   ]
  },
  {
   "cell_type": "code",
   "execution_count": 102,
   "metadata": {
    "scrolled": true
   },
   "outputs": [
    {
     "name": "stdout",
     "output_type": "stream",
     "text": [
      "          Gender  Purchase Ct. Avg. Price Total Purchase Value Avg. Total\n",
      "0           Male           652      $3.02            $1,967.64      $4.07\n",
      "1         Female           113      $3.20              $361.94      $4.47\n",
      "2  Non-Disclosed            15      $3.35               $50.19      $4.56\n"
     ]
    }
   ],
   "source": [
    "#Purchase Analysis DataFrame By Gender\n",
    "\n",
    "gender_data_analysis_df = pd.DataFrame({\"Gender\": [\"Male\", \"Female\", \"Non-Disclosed\"], \"Purchase Ct.\": [652, 113, 15], \"Avg. Price\": [\"$3.02\", \"$3.20\", \"$3.35\"], \"Total Purchase Value\": [\"$1,967.64\", \"$361.94\", \"$50.19\"], \"Avg. Total\": [\"$4.07\", \"$4.47\", \"$4.56\"]})\n",
    "print(gender_data_analysis_df)"
   ]
  },
  {
   "cell_type": "code",
   "execution_count": 103,
   "metadata": {},
   "outputs": [
    {
     "name": "stdout",
     "output_type": "stream",
     "text": [
      "45\n"
     ]
    }
   ],
   "source": [
    "#Oldest Person\n",
    "\n",
    "pymoli_file_oldest = pymoli_file_df[\"Age\"].max()\n",
    "print(pymoli_file_oldest)"
   ]
  },
  {
   "cell_type": "code",
   "execution_count": 104,
   "metadata": {},
   "outputs": [
    {
     "name": "stdout",
     "output_type": "stream",
     "text": [
      "7\n"
     ]
    }
   ],
   "source": [
    "#Youngest Person\n",
    "\n",
    "pymoli_file_youngest = pymoli_file_df[\"Age\"].min()\n",
    "print(pymoli_file_youngest)"
   ]
  },
  {
   "cell_type": "code",
   "execution_count": 128,
   "metadata": {},
   "outputs": [],
   "source": [
    "#Bins of 4 Years \n",
    "\n",
    "year_bins = [0, 9, 14, 19, 24, 29, 34, 39, 50]\n",
    "bin_labels = [\"<10\",\"10-14\", \"15-19\", \"20-24\", \"25-29\", \"30-34\", \"35-39\",\"40+\"]"
   ]
  },
  {
   "cell_type": "code",
   "execution_count": 129,
   "metadata": {},
   "outputs": [
    {
     "name": "stdout",
     "output_type": "stream",
     "text": [
      "     Purchase ID             SN  Age  Gender  Item ID  \\\n",
      "0              0        Lisim78   20    Male      108   \n",
      "1              1    Lisovynya38   40    Male      143   \n",
      "2              2     Ithergue48   24    Male       92   \n",
      "3              3  Chamassasya86   24    Male      100   \n",
      "4              4      Iskosia90   23    Male      131   \n",
      "..           ...            ...  ...     ...      ...   \n",
      "775          775     Aethedru70   21  Female       60   \n",
      "776          776         Iral74   21    Male      164   \n",
      "777          777     Yathecal72   20    Male       67   \n",
      "778          778        Sisur91    7    Male       92   \n",
      "779          779      Ennrian78   24    Male       50   \n",
      "\n",
      "                                     Item Name  Price Total Count Age Range  \n",
      "0    Extraction, Quickblade Of Trembling Hands   3.53       20-24     20-24  \n",
      "1                            Frenzied Scimitar   1.56         40+       40+  \n",
      "2                                 Final Critic   4.88       20-24     20-24  \n",
      "3                                  Blindscythe   3.27       20-24     20-24  \n",
      "4                                         Fury   1.44       20-24     20-24  \n",
      "..                                         ...    ...         ...       ...  \n",
      "775                                       Wolf   3.54       20-24     20-24  \n",
      "776                           Exiled Doomblade   1.63       20-24     20-24  \n",
      "777      Celeste, Incarnation of the Corrupted   3.46       20-24     20-24  \n",
      "778                               Final Critic   4.19         <10       <10  \n",
      "779                                       Dawn   4.60       20-24     20-24  \n",
      "\n",
      "[780 rows x 9 columns]\n"
     ]
    }
   ],
   "source": [
    "pymoli_file_df[\"Age Range\"] = pd.cut(pymoli_file_df[\"Age\"], year_bins, labels=bin_labels, include_lowest=True)\n",
    "print(pymoli_file_df)"
   ]
  },
  {
   "cell_type": "code",
   "execution_count": 130,
   "metadata": {},
   "outputs": [
    {
     "name": "stdout",
     "output_type": "stream",
     "text": [
      "     Purchase ID             SN  Age  Gender  Item ID  \\\n",
      "0              0        Lisim78   20    Male      108   \n",
      "1              1    Lisovynya38   40    Male      143   \n",
      "2              2     Ithergue48   24    Male       92   \n",
      "3              3  Chamassasya86   24    Male      100   \n",
      "4              4      Iskosia90   23    Male      131   \n",
      "..           ...            ...  ...     ...      ...   \n",
      "775          775     Aethedru70   21  Female       60   \n",
      "776          776         Iral74   21    Male      164   \n",
      "777          777     Yathecal72   20    Male       67   \n",
      "778          778        Sisur91    7    Male       92   \n",
      "779          779      Ennrian78   24    Male       50   \n",
      "\n",
      "                                     Item Name  Price Age Range  \n",
      "0    Extraction, Quickblade Of Trembling Hands   3.53     20-24  \n",
      "1                            Frenzied Scimitar   1.56       40+  \n",
      "2                                 Final Critic   4.88     20-24  \n",
      "3                                  Blindscythe   3.27     20-24  \n",
      "4                                         Fury   1.44     20-24  \n",
      "..                                         ...    ...       ...  \n",
      "775                                       Wolf   3.54     20-24  \n",
      "776                           Exiled Doomblade   1.63     20-24  \n",
      "777      Celeste, Incarnation of the Corrupted   3.46     20-24  \n",
      "778                               Final Critic   4.19       <10  \n",
      "779                                       Dawn   4.60     20-24  \n",
      "\n",
      "[780 rows x 8 columns]\n"
     ]
    }
   ],
   "source": [
    "#Dropping Wrong Column\n",
    "\n",
    "print(pymoli_file_df.drop([\"Total Count\"], axis=1))"
   ]
  },
  {
   "cell_type": "code",
   "execution_count": 140,
   "metadata": {},
   "outputs": [
    {
     "name": "stdout",
     "output_type": "stream",
     "text": [
      "                SN Age Range\n",
      "0          Lisim78     20-24\n",
      "1      Lisovynya38       40+\n",
      "2       Ithergue48     20-24\n",
      "3    Chamassasya86     20-24\n",
      "4        Iskosia90     20-24\n",
      "..             ...       ...\n",
      "775     Aethedru70     20-24\n",
      "776         Iral74     20-24\n",
      "777     Yathecal72     20-24\n",
      "778        Sisur91       <10\n",
      "779      Ennrian78     20-24\n",
      "\n",
      "[780 rows x 2 columns]\n"
     ]
    }
   ],
   "source": [
    "#Creating New DataFrame To Review The Data For Grouping\n",
    "\n",
    "new_pymoli_file_df = pymoli_file_df[[\"SN\",\"Age Range\"]]\n",
    "print(new_pymoli_file_df)"
   ]
  },
  {
   "cell_type": "code",
   "execution_count": 141,
   "metadata": {},
   "outputs": [
    {
     "name": "stdout",
     "output_type": "stream",
     "text": [
      "                SN Age Range\n",
      "0          Lisim78     20-24\n",
      "1      Lisovynya38       40+\n",
      "2       Ithergue48     20-24\n",
      "3    Chamassasya86     20-24\n",
      "4        Iskosia90     20-24\n",
      "..             ...       ...\n",
      "773         Hala31     20-24\n",
      "774     Jiskjask80     10-14\n",
      "775     Aethedru70     20-24\n",
      "777     Yathecal72     20-24\n",
      "778        Sisur91       <10\n",
      "\n",
      "[576 rows x 2 columns]\n"
     ]
    }
   ],
   "source": [
    "#Removing Duplicate Names From Above DataFrame\n",
    "\n",
    "new_data_for_group_df = new_pymoli_file_df.drop_duplicates(subset=[\"SN\"])\n",
    "print(new_data_for_group_df)"
   ]
  },
  {
   "cell_type": "code",
   "execution_count": 142,
   "metadata": {},
   "outputs": [
    {
     "name": "stdout",
     "output_type": "stream",
     "text": [
      "            SN\n",
      "Age Range     \n",
      "<10         17\n",
      "10-14       22\n",
      "15-19      107\n",
      "20-24      258\n",
      "25-29       77\n",
      "30-34       52\n",
      "35-39       31\n",
      "40+         12\n"
     ]
    }
   ],
   "source": [
    "#Counting Number of Age Ranges\n",
    "\n",
    "new_pymoli_file_df_bg = new_data_for_group_df.groupby([\"Age Range\"])\n",
    "print(new_pymoli_file_df_bg.count())"
   ]
  },
  {
   "cell_type": "code",
   "execution_count": 149,
   "metadata": {},
   "outputs": [
    {
     "name": "stdout",
     "output_type": "stream",
     "text": [
      "  Age Range  Total Count  Percent Of Players\n",
      "0       <10           17            2.951389\n",
      "1     10-14           22            3.819444\n",
      "2     15-19          107           18.576389\n",
      "3     20-24          258           44.791667\n",
      "4     25-29           77           13.368056\n",
      "5     30-34           52            9.027778\n",
      "6     35-39           31            5.381944\n",
      "7       40+           12            2.083333\n"
     ]
    }
   ],
   "source": [
    "#Create A New DataFrame & Add Percent Column\n",
    "\n",
    "percent_of_players_df = pd.DataFrame({\"Age Range\": [\"<10\",\"10-14\", \"15-19\", \"20-24\", \"25-29\", \"30-34\", \"35-39\",\"40+\"],\"Total Count\":[17, 22, 107, 258, 77, 52, 31, 12] ,\"Percent Of Players\":[17/576 * 100, 22/576 * 100, 107/576 * 100, 258/576 * 100, 77/576 * 100, 52/576 * 100, 31/576 * 100, 12/576 * 100]})\n",
    "print(percent_of_players_df)"
   ]
  },
  {
   "cell_type": "code",
   "execution_count": 150,
   "metadata": {},
   "outputs": [
    {
     "name": "stdout",
     "output_type": "stream",
     "text": [
      "  Age Range  Total Count  Percent Of Players Percent Of Player\n",
      "0       <10           17            2.951389             2.95%\n",
      "1     10-14           22            3.819444             3.82%\n",
      "2     15-19          107           18.576389            18.58%\n",
      "3     20-24          258           44.791667            44.79%\n",
      "4     25-29           77           13.368056            13.37%\n",
      "5     30-34           52            9.027778             9.03%\n",
      "6     35-39           31            5.381944             5.38%\n",
      "7       40+           12            2.083333             2.08%\n"
     ]
    }
   ],
   "source": [
    "#Age Demographics\n",
    "# Change Percents Columns By Adding Mapping Function\n",
    "\n",
    "percent_of_players_df[\"Age Range\"] = percent_of_players_df[\"Age Range\"] \n",
    "percent_of_players_df[\"Total Count\"] = percent_of_players_df[\"Total Count\"]\n",
    "percent_of_players_df[\"Percent Of Player\"] = percent_of_players_df[\"Percent Of Players\"].map(\"{:.2f}%\".format)\n",
    "print(percent_of_players_df)"
   ]
  },
  {
   "cell_type": "code",
   "execution_count": 151,
   "metadata": {},
   "outputs": [
    {
     "name": "stdout",
     "output_type": "stream",
     "text": [
      "    Age Range  Price\n",
      "0       20-24   3.53\n",
      "1         40+   1.56\n",
      "2       20-24   4.88\n",
      "3       20-24   3.27\n",
      "4       20-24   1.44\n",
      "..        ...    ...\n",
      "775     20-24   3.54\n",
      "776     20-24   1.63\n",
      "777     20-24   3.46\n",
      "778       <10   4.19\n",
      "779     20-24   4.60\n",
      "\n",
      "[780 rows x 2 columns]\n"
     ]
    }
   ],
   "source": [
    "#Creating New DataFrame To Review The Purchase Data For Grouping\n",
    "\n",
    "second_pymoli_file_df = pymoli_file_df[[\"Age Range\", \"Price\"]]\n",
    "print(second_pymoli_file_df)"
   ]
  },
  {
   "cell_type": "code",
   "execution_count": 152,
   "metadata": {},
   "outputs": [
    {
     "name": "stdout",
     "output_type": "stream",
     "text": [
      "Age Range\n",
      "<10       23\n",
      "10-14     28\n",
      "15-19    136\n",
      "20-24    365\n",
      "25-29    101\n",
      "30-34     73\n",
      "35-39     41\n",
      "40+       13\n",
      "Name: Age Range, dtype: int64\n"
     ]
    }
   ],
   "source": [
    "age_group = second_pymoli_file_df.groupby(\"Age Range\")\n",
    "print(age_group[\"Age Range\"].count())"
   ]
  },
  {
   "cell_type": "code",
   "execution_count": 153,
   "metadata": {},
   "outputs": [
    {
     "name": "stdout",
     "output_type": "stream",
     "text": [
      "              Price\n",
      "Age Range          \n",
      "<10        3.353478\n",
      "10-14      2.956429\n",
      "15-19      3.035956\n",
      "20-24      3.052219\n",
      "25-29      2.900990\n",
      "30-34      2.931507\n",
      "35-39      3.601707\n",
      "40+        2.941538\n"
     ]
    }
   ],
   "source": [
    "print(age_group[[\"Age Range\", \"Price\"]].mean())"
   ]
  },
  {
   "cell_type": "code",
   "execution_count": 154,
   "metadata": {},
   "outputs": [
    {
     "name": "stdout",
     "output_type": "stream",
     "text": [
      "             Price\n",
      "Age Range         \n",
      "<10          77.13\n",
      "10-14        82.78\n",
      "15-19       412.89\n",
      "20-24      1114.06\n",
      "25-29       293.00\n",
      "30-34       214.00\n",
      "35-39       147.67\n",
      "40+          38.24\n"
     ]
    }
   ],
   "source": [
    "print(age_group[[\"Age Range\",\"Price\"]].sum())"
   ]
  },
  {
   "cell_type": "code",
   "execution_count": 159,
   "metadata": {},
   "outputs": [
    {
     "name": "stdout",
     "output_type": "stream",
     "text": [
      "  Age Range  Purchase Count Avg. Price Total Value  Avg. Total\n",
      "0       <10              23      $3.35      $77.13    4.537059\n",
      "1     10-14              28      $2.95      $82.78    3.762727\n",
      "2     15-19             136      $3.03     $412.89    3.858785\n",
      "3     20-24             365      $3.05    $1114.06    4.318062\n",
      "4     25-29             101      $2.90     $293.00    3.805195\n",
      "5     30-34              73      $2.93     $214.00    4.115385\n",
      "6     35-39              41      $3.60     $147.67    4.763548\n",
      "7       40+              13      $2.94      $38.24    3.186667\n"
     ]
    }
   ],
   "source": [
    "#Purchasing DataFrame (Age)\n",
    "\n",
    "age_group_analysis_df = pd.DataFrame({\"Age Range\": [\"<10\",\"10-14\", \"15-19\", \"20-24\", \"25-29\", \"30-34\", \"35-39\",\"40+\"], \"Purchase Count\":[23, 28, 136, 365, 101, 73, 41, 13], \"Avg. Price\": [\"$3.35\",\"$2.95\",\"$3.03\",\"$3.05\",\"$2.90\",\"$2.93\",\"$3.60\", \"$2.94\"], \"Total Value\":[\"$77.13\",\"$82.78\",\"$412.89\",\"$1114.06\",\"$293.00\",\"$214.00\", \"$147.67\",\"$38.24\"], \"Avg. Total\":[77.13/17, 82.78/22, 412.89/107,1114.06/258, 293.00/77, 214.00/52, 147.67/31, 38.24/12]})\n",
    "print(age_group_analysis_df)"
   ]
  },
  {
   "cell_type": "code",
   "execution_count": 160,
   "metadata": {},
   "outputs": [
    {
     "name": "stdout",
     "output_type": "stream",
     "text": [
      "  Age Range  Purchase Count Avg. Price Total Value Avg. Total\n",
      "0       <10              23      $3.35      $77.13      $4.54\n",
      "1     10-14              28      $2.95      $82.78      $3.76\n",
      "2     15-19             136      $3.03     $412.89      $3.86\n",
      "3     20-24             365      $3.05    $1114.06      $4.32\n",
      "4     25-29             101      $2.90     $293.00      $3.81\n",
      "5     30-34              73      $2.93     $214.00      $4.12\n",
      "6     35-39              41      $3.60     $147.67      $4.76\n",
      "7       40+              13      $2.94      $38.24      $3.19\n"
     ]
    }
   ],
   "source": [
    "#Purchasing Age DataFrame (Age)\n",
    "age_group_analysis_df[\"Age Range\"] = age_group_analysis_df[\"Age Range\"]\n",
    "age_group_analysis_df[\"Purchase Count\"] = age_group_analysis_df[\"Purchase Count\"]\n",
    "age_group_analysis_df[\"Avg. Price\"] = age_group_analysis_df[\"Avg. Price\"]\n",
    "age_group_analysis_df[\"Total Value\"] = age_group_analysis_df[\"Total Value\"]\n",
    "age_group_analysis_df[\"Avg. Total\"] = age_group_analysis_df[\"Avg. Total\"].map(\"${:.2f}\".format)\n",
    "print(age_group_analysis_df)"
   ]
  },
  {
   "cell_type": "code",
   "execution_count": 306,
   "metadata": {},
   "outputs": [
    {
     "name": "stdout",
     "output_type": "stream",
     "text": [
      "SN\n",
      "Lisosia93       18.96\n",
      "Idastidru52     15.45\n",
      "Chamjask73      13.83\n",
      "Iral74          13.62\n",
      "Iskadarya95     13.10\n",
      "Ilarin91        12.70\n",
      "Ialallo29       11.84\n",
      "Tyidaim51       11.83\n",
      "Lassilsala30    11.51\n",
      "Chadolyla44     11.46\n",
      "Name: Price, dtype: float64\n"
     ]
    }
   ],
   "source": [
    "#Top Spenders\n",
    "\n",
    "spenders_grouped = pymoli_file_df.groupby('SN')['Price'].sum().sort_values(ascending=False)\n",
    "print(spenders_grouped.head(10))\n"
   ]
  },
  {
   "cell_type": "code",
   "execution_count": 275,
   "metadata": {},
   "outputs": [
    {
     "name": "stdout",
     "output_type": "stream",
     "text": [
      "Purchase ID    5\n",
      "SN             5\n",
      "Age            5\n",
      "Gender         5\n",
      "Item ID        5\n",
      "Item Name      5\n",
      "Price          5\n",
      "Total Count    5\n",
      "Age Range      5\n",
      "sum_column     5\n",
      "dtype: int64\n",
      "Purchase ID                                                 1630\n",
      "SN                 Lisosia93Lisosia93Lisosia93Lisosia93Lisosia93\n",
      "Age                                                          125\n",
      "Gender                                      MaleMaleMaleMaleMale\n",
      "Item ID                                                      442\n",
      "Item Name      Blazefury, Protector of DelusionsWarped Fetish...\n",
      "Price                                                      18.96\n",
      "Total Count                            25-2925-2925-2925-2925-29\n",
      "Age Range                              25-2925-2925-2925-2925-29\n",
      "sum_column                                                  1630\n",
      "dtype: object\n"
     ]
    }
   ],
   "source": [
    "#Top Spenders\n",
    "\n",
    "lisosia93_spender = pymoli_file_df.loc[pymoli_file_df[\"SN\"] == \"Lisosia93\",:] \n",
    "print(lisosia93_spender.count())\n",
    "print(lisosia93_spender.sum())"
   ]
  },
  {
   "cell_type": "code",
   "execution_count": 276,
   "metadata": {},
   "outputs": [
    {
     "name": "stdout",
     "output_type": "stream",
     "text": [
      "Purchase ID    4\n",
      "SN             4\n",
      "Age            4\n",
      "Gender         4\n",
      "Item ID        4\n",
      "Item Name      4\n",
      "Price          4\n",
      "Total Count    4\n",
      "Age Range      4\n",
      "sum_column     4\n",
      "dtype: int64\n",
      "Purchase ID                                                 1999\n",
      "SN                  Idastidru52Idastidru52Idastidru52Idastidru52\n",
      "Age                                                           96\n",
      "Gender                                          MaleMaleMaleMale\n",
      "Item ID                                                      527\n",
      "Item Name      Hellreaver, Heirloom of InceptionWarmonger, Gi...\n",
      "Price                                                      15.45\n",
      "Total Count                                 20-2420-2420-2420-24\n",
      "Age Range                                   20-2420-2420-2420-24\n",
      "sum_column                                                  1999\n",
      "dtype: object\n"
     ]
    }
   ],
   "source": [
    "idastidru52_spender = pymoli_file_df.loc[pymoli_file_df[\"SN\"] == \"Idastidru52\",:] \n",
    "print(idastidru52_spender.count())\n",
    "print(idastidru52_spender.sum())"
   ]
  },
  {
   "cell_type": "code",
   "execution_count": 277,
   "metadata": {},
   "outputs": [
    {
     "name": "stdout",
     "output_type": "stream",
     "text": [
      "Purchase ID    3\n",
      "SN             3\n",
      "Age            3\n",
      "Gender         3\n",
      "Item ID        3\n",
      "Item Name      3\n",
      "Price          3\n",
      "Total Count    3\n",
      "Age Range      3\n",
      "sum_column     3\n",
      "dtype: int64\n",
      "Purchase ID                                                 1306\n",
      "SN                                Chamjask73Chamjask73Chamjask73\n",
      "Age                                                           66\n",
      "Gender                                        FemaleFemaleFemale\n",
      "Item ID                                                      339\n",
      "Item Name      Oathbreaker, Last Hope of the Breaking StormDo...\n",
      "Price                                                      13.83\n",
      "Total Count                                      20-2420-2420-24\n",
      "Age Range                                        20-2420-2420-24\n",
      "sum_column                                                  1306\n",
      "dtype: object\n"
     ]
    }
   ],
   "source": [
    "chamjask73_spender = pymoli_file_df.loc[pymoli_file_df[\"SN\"] == \"Chamjask73\",:] \n",
    "print(chamjask73_spender.count())\n",
    "print(chamjask73_spender.sum())"
   ]
  },
  {
   "cell_type": "code",
   "execution_count": 278,
   "metadata": {},
   "outputs": [
    {
     "name": "stdout",
     "output_type": "stream",
     "text": [
      "Purchase ID    4\n",
      "SN             4\n",
      "Age            4\n",
      "Gender         4\n",
      "Item ID        4\n",
      "Item Name      4\n",
      "Price          4\n",
      "Total Count    4\n",
      "Age Range      4\n",
      "sum_column     4\n",
      "dtype: int64\n",
      "Purchase ID                                                 2285\n",
      "SN                                      Iral74Iral74Iral74Iral74\n",
      "Age                                                           84\n",
      "Gender                                          MaleMaleMaleMale\n",
      "Item ID                                                      518\n",
      "Item Name      Freak's Bite, Favor of Holy MightYearning Mage...\n",
      "Price                                                      13.62\n",
      "Total Count                                 20-2420-2420-2420-24\n",
      "Age Range                                   20-2420-2420-2420-24\n",
      "sum_column                                                  2285\n",
      "dtype: object\n"
     ]
    }
   ],
   "source": [
    "iral74_spender = pymoli_file_df.loc[pymoli_file_df[\"SN\"] == \"Iral74\",:] \n",
    "print(iral74_spender.count())\n",
    "print(iral74_spender.sum())"
   ]
  },
  {
   "cell_type": "code",
   "execution_count": 279,
   "metadata": {},
   "outputs": [
    {
     "name": "stdout",
     "output_type": "stream",
     "text": [
      "Purchase ID    3\n",
      "SN             3\n",
      "Age            3\n",
      "Gender         3\n",
      "Item ID        3\n",
      "Item Name      3\n",
      "Price          3\n",
      "Total Count    3\n",
      "Age Range      3\n",
      "sum_column     3\n",
      "dtype: int64\n",
      "Purchase ID                                                 713\n",
      "SN                            Iskadarya95Iskadarya95Iskadarya95\n",
      "Age                                                          60\n",
      "Gender                                             MaleMaleMale\n",
      "Item ID                                                     321\n",
      "Item Name      Warmonger, Gift of Suffering's EndNirvanaCeleste\n",
      "Price                                                      13.1\n",
      "Total Count                                     20-2420-2420-24\n",
      "Age Range                                       20-2420-2420-24\n",
      "sum_column                                                  713\n",
      "dtype: object\n"
     ]
    }
   ],
   "source": [
    "iskadarya95_spender = pymoli_file_df.loc[pymoli_file_df[\"SN\"] == \"Iskadarya95\",:] \n",
    "print(iskadarya95_spender.count())\n",
    "print(iskadarya95_spender.sum())"
   ]
  },
  {
   "cell_type": "code",
   "execution_count": 280,
   "metadata": {},
   "outputs": [
    {
     "name": "stdout",
     "output_type": "stream",
     "text": [
      "            SN  Purchase Count  Avg. Price Total Value\n",
      "0    Lisosia93               5    3.792000      $18.96\n",
      "1  Idastidru52               4    3.862500      $15.45\n",
      "2   Chamjask73               3    4.610000      $13.83\n",
      "3       Iral74               4    3.405000      $13.62\n",
      "4  Iskadarya95               3    4.366667       $13.1\n"
     ]
    }
   ],
   "source": [
    "#Top Spender DataFrame\n",
    "\n",
    "top_spenders_df = pd.DataFrame({\"SN\": [\"Lisosia93\", \"Idastidru52\",\"Chamjask73\",\"Iral74\", \"Iskadarya95\"], \"Purchase Count\":[5,4,3,4,3], \"Avg. Price\": [18.96/5,15.45/4,13.83/3,13.62/4,13.1/3], \"Total Value\":[\"$18.96\",\"$15.45\",\"$13.83\",\"$13.62\",\"$13.1\"]})\n",
    "print(top_spenders_df)\n"
   ]
  },
  {
   "cell_type": "code",
   "execution_count": 316,
   "metadata": {},
   "outputs": [
    {
     "name": "stdout",
     "output_type": "stream",
     "text": [
      "            SN  Purchase Count Avg. Price Total Value\n",
      "0    Lisosia93               5      $3.79      $18.96\n",
      "1  Idastidru52               4      $3.86      $15.45\n",
      "2   Chamjask73               3      $4.61      $13.83\n",
      "3       Iral74               4      $3.40      $13.62\n",
      "4  Iskadarya95               3      $4.37       $13.1\n"
     ]
    }
   ],
   "source": [
    "top_spenders_df[\"SN\"] = top_spenders_df[\"SN\"]\n",
    "top_spenders_df[\"Purchase Count\"] = top_spenders_df[\"Purchase Count\"]\n",
    "top_spenders_df[\"Avg. Price\"] = top_spenders_df[\"Avg. Price\"].map(\"${:.2f}\".format)\n",
    "top_spenders_df[\"Total Value\"] = top_spenders_df[\"Total Value\"]\n",
    "print(top_spenders_df)"
   ]
  },
  {
   "cell_type": "code",
   "execution_count": 304,
   "metadata": {},
   "outputs": [
    {
     "name": "stdout",
     "output_type": "stream",
     "text": [
      "Item Name\n",
      "Final Critic                                    59.99\n",
      "Oathbreaker, Last Hope of the Breaking Storm    50.76\n",
      "Nirvana                                         44.10\n",
      "Fiery Glass Crusader                            41.22\n",
      "Singed Scalpel                                  34.80\n",
      "Lightning, Etcher of the King                   33.84\n",
      "Extraction, Quickblade Of Trembling Hands       31.77\n",
      "Glimmer, Ender of the Moon                      30.80\n",
      "Winter's Bite                                   30.16\n",
      "Persuasion                                      28.99\n",
      "Name: Price, dtype: float64\n"
     ]
    }
   ],
   "source": [
    "#Top Profitable Items\n",
    "\n",
    "#df.groupby('group')['id'].count().sort_values(ascending=False)\n",
    "grouped = pymoli_file_df.groupby('Item Name')['Price'].sum().sort_values(ascending=False)\n",
    "print(grouped.head(10))"
   ]
  },
  {
   "cell_type": "code",
   "execution_count": 307,
   "metadata": {},
   "outputs": [
    {
     "name": "stdout",
     "output_type": "stream",
     "text": [
      "Purchase ID    13\n",
      "SN             13\n",
      "Age            13\n",
      "Gender         13\n",
      "Item ID        13\n",
      "Item Name      13\n",
      "Price          13\n",
      "Total Count    13\n",
      "Age Range      13\n",
      "sum_column     13\n",
      "dtype: int64\n",
      "Purchase ID                                                 6371\n",
      "SN             Ithergue48Haisrisuir60Tyaelo67Phyali88Ennalmol...\n",
      "Age                                                          266\n",
      "Gender         MaleMaleMaleFemaleMaleMaleMaleMaleMaleFemaleMa...\n",
      "Item ID                                                     1196\n",
      "Item Name      Final CriticFinal CriticFinal CriticFinal Crit...\n",
      "Price                                                      59.99\n",
      "Total Count    20-2420-2435-3915-1920-24<1020-2425-2920-24<10...\n",
      "Age Range      20-2420-2435-3915-1920-2410-1420-2425-2920-24<...\n",
      "sum_column                                                  6371\n",
      "dtype: object\n"
     ]
    }
   ],
   "source": [
    "#Top Items\n",
    "\n",
    "final_critic = pymoli_file_df.loc[pymoli_file_df[\"Item Name\"] == \"Final Critic\",:] \n",
    "print(final_critic.count())\n",
    "print(final_critic.sum())"
   ]
  },
  {
   "cell_type": "code",
   "execution_count": 308,
   "metadata": {},
   "outputs": [
    {
     "name": "stdout",
     "output_type": "stream",
     "text": [
      "Purchase ID    12\n",
      "SN             12\n",
      "Age            12\n",
      "Gender         12\n",
      "Item ID        12\n",
      "Item Name      12\n",
      "Price          12\n",
      "Total Count    12\n",
      "Age Range      12\n",
      "sum_column     12\n",
      "dtype: int64\n",
      "Purchase ID                                                 4960\n",
      "SN             Lisirra87Jiskimya77Yadaphos40Marilsa69Chamjask...\n",
      "Age                                                          287\n",
      "Gender         MaleMaleMaleFemaleFemaleMaleMaleMaleFemaleMale...\n",
      "Item ID                                                     2136\n",
      "Item Name      Oathbreaker, Last Hope of the Breaking StormOa...\n",
      "Price                                                      50.76\n",
      "Total Count    25-2915-1930-3425-2920-2420-2420-2425-29<1020-...\n",
      "Age Range      25-2915-1930-3425-2920-2420-2420-2425-29<1020-...\n",
      "sum_column                                                  4960\n",
      "dtype: object\n"
     ]
    }
   ],
   "source": [
    "oathbreaker = pymoli_file_df.loc[pymoli_file_df[\"Item Name\"] == \"Oathbreaker, Last Hope of the Breaking Storm\",:] \n",
    "print(oathbreaker.count())\n",
    "print(oathbreaker.sum())"
   ]
  },
  {
   "cell_type": "code",
   "execution_count": 309,
   "metadata": {},
   "outputs": [
    {
     "name": "stdout",
     "output_type": "stream",
     "text": [
      "Purchase ID    9\n",
      "SN             9\n",
      "Age            9\n",
      "Gender         9\n",
      "Item ID        9\n",
      "Item Name      9\n",
      "Price          9\n",
      "Total Count    9\n",
      "Age Range      9\n",
      "sum_column     9\n",
      "dtype: int64\n",
      "Purchase ID                                                 2761\n",
      "SN             Reunasu60Laedallo55Phistym51Lirtastsda29Iskada...\n",
      "Age                                                          215\n",
      "Gender              FemaleMaleMaleMaleMaleFemaleFemaleMaleFemale\n",
      "Item ID                                                      738\n",
      "Item Name      NirvanaNirvanaNirvanaNirvanaNirvanaNirvanaNirv...\n",
      "Price                                                       44.1\n",
      "Total Count        20-2430-3435-3915-1920-2425-2920-2415-1920-24\n",
      "Age Range          20-2430-3435-3915-1920-2425-2920-2415-1920-24\n",
      "sum_column                                                  2761\n",
      "dtype: object\n"
     ]
    }
   ],
   "source": [
    "nirvana = pymoli_file_df.loc[pymoli_file_df[\"Item Name\"] == \"Nirvana\",:] \n",
    "print(nirvana.count())\n",
    "print(nirvana.sum())"
   ]
  },
  {
   "cell_type": "code",
   "execution_count": 310,
   "metadata": {},
   "outputs": [
    {
     "name": "stdout",
     "output_type": "stream",
     "text": [
      "Purchase ID    9\n",
      "SN             9\n",
      "Age            9\n",
      "Gender         9\n",
      "Item ID        9\n",
      "Item Name      9\n",
      "Price          9\n",
      "Total Count    9\n",
      "Age Range      9\n",
      "sum_column     9\n",
      "dtype: int64\n",
      "Purchase ID                                                 4345\n",
      "SN             Inguron55Sondastsda82Ceoral34Qilunan34Ina92Yoi...\n",
      "Age                                                          187\n",
      "Gender                  MaleMaleMaleMaleMaleFemaleFemaleMaleMale\n",
      "Item ID                                                     1305\n",
      "Item Name      Fiery Glass CrusaderFiery Glass CrusaderFiery ...\n",
      "Price                                                      41.22\n",
      "Total Count        20-2420-2420-2420-2430-3415-1915-1915-1915-19\n",
      "Age Range          20-2420-2420-2420-2430-3415-1915-1915-1915-19\n",
      "sum_column                                                  4345\n",
      "dtype: object\n"
     ]
    }
   ],
   "source": [
    "fiery = pymoli_file_df.loc[pymoli_file_df[\"Item Name\"] == \"Fiery Glass Crusader\",:] \n",
    "print(fiery.count())\n",
    "print(fiery.sum())"
   ]
  },
  {
   "cell_type": "code",
   "execution_count": 311,
   "metadata": {},
   "outputs": [
    {
     "name": "stdout",
     "output_type": "stream",
     "text": [
      "Purchase ID    8\n",
      "SN             8\n",
      "Age            8\n",
      "Gender         8\n",
      "Item ID        8\n",
      "Item Name      8\n",
      "Price          8\n",
      "Total Count    8\n",
      "Age Range      8\n",
      "sum_column     8\n",
      "dtype: int64\n",
      "Purchase ID                                                 3947\n",
      "SN             Indcil77Aina42Lisossala30Assistasda90Marassa62...\n",
      "Age                                                          178\n",
      "Gender                        MaleMaleMaleMaleMaleMaleMaleFemale\n",
      "Item ID                                                      824\n",
      "Item Name      Singed ScalpelSinged ScalpelSinged ScalpelSing...\n",
      "Price                                                       34.8\n",
      "Total Count             15-1925-2920-2425-2920-2415-1935-3915-19\n",
      "Age Range               15-1925-2920-2425-2920-2415-1935-3915-19\n",
      "sum_column                                                  3947\n",
      "dtype: object\n"
     ]
    }
   ],
   "source": [
    "singed = pymoli_file_df.loc[pymoli_file_df[\"Item Name\"] == \"Singed Scalpel\",:] \n",
    "print(singed.count())\n",
    "print(singed.sum())"
   ]
  },
  {
   "cell_type": "code",
   "execution_count": 315,
   "metadata": {},
   "outputs": [
    {
     "name": "stdout",
     "output_type": "stream",
     "text": [
      "                                      Item Name  Purchase Ct.  Item Price  \\\n",
      "0                                  Final Critic            13    4.614615   \n",
      "1  Oathbreaker, Last Hope of the Breaking Storm            12    4.230000   \n",
      "2                                       Nirvana             9    4.900000   \n",
      "3                          Fiery Glass Crusader             9    4.580000   \n",
      "4                                Singed Scalpel             8    4.350000   \n",
      "\n",
      "  Total Value  \n",
      "0      $59.99  \n",
      "1      $50.76  \n",
      "2      $44.10  \n",
      "3      $41.22  \n",
      "4      $34.80  \n"
     ]
    }
   ],
   "source": [
    "#Top Profitable Items DataFrame\n",
    "\n",
    "top_profitable_df = pd.DataFrame({\"Item Name\": [\"Final Critic\", \"Oathbreaker, Last Hope of the Breaking Storm\",\"Nirvana\",\"Fiery Glass Crusader\", \"Singed Scalpel\"], \"Purchase Ct.\":[13,12,9,9,8], \"Item Price\": [59.99/13,50.76/12,44.10/9,41.22/9,34.80/8], \"Total Value\":[\"$59.99\",\"$50.76\",\"$44.10\",\"$41.22\",\"$34.80\"]})\n",
    "print(top_profitable_df)"
   ]
  },
  {
   "cell_type": "code",
   "execution_count": 317,
   "metadata": {},
   "outputs": [
    {
     "name": "stdout",
     "output_type": "stream",
     "text": [
      "                                      Item Name  Purchase Ct. Item Price  \\\n",
      "0                                  Final Critic            13      $4.61   \n",
      "1  Oathbreaker, Last Hope of the Breaking Storm            12      $4.23   \n",
      "2                                       Nirvana             9      $4.90   \n",
      "3                          Fiery Glass Crusader             9      $4.58   \n",
      "4                                Singed Scalpel             8      $4.35   \n",
      "\n",
      "  Total Value  \n",
      "0      $59.99  \n",
      "1      $50.76  \n",
      "2      $44.10  \n",
      "3      $41.22  \n",
      "4      $34.80  \n"
     ]
    }
   ],
   "source": [
    "top_profitable_df[\"Item Name\"] = top_profitable_df[\"Item Name\"]\n",
    "top_profitable_df[\"Purchase Ct.\"] = top_profitable_df[\"Purchase Ct.\"]\n",
    "top_profitable_df[\"Item Price\"] = top_profitable_df[\"Item Price\"].map(\"${:.2f}\".format)\n",
    "top_profitable_df[\"Total Value\"] = top_profitable_df[\"Total Value\"]\n",
    "print(top_profitable_df)"
   ]
  },
  {
   "cell_type": "code",
   "execution_count": 318,
   "metadata": {},
   "outputs": [
    {
     "name": "stdout",
     "output_type": "stream",
     "text": [
      "Item Name\n",
      "Final Critic                                    13\n",
      "Oathbreaker, Last Hope of the Breaking Storm    12\n",
      "Nirvana                                          9\n",
      "Persuasion                                       9\n",
      "Fiery Glass Crusader                             9\n",
      "Extraction, Quickblade Of Trembling Hands        9\n",
      "Singed Scalpel                                   8\n",
      "Lightning, Etcher of the King                    8\n",
      "Brutality Ivory Warmace                          8\n",
      "Retribution Axe                                  8\n",
      "Name: Price, dtype: int64\n"
     ]
    }
   ],
   "source": [
    "#Top Popular Items\n",
    "\n",
    "#df.groupby('group')['id'].count().sort_values(ascending=False)\n",
    "popular_grouped = pymoli_file_df.groupby('Item Name')['Price'].count().sort_values(ascending=False)\n",
    "print(popular_grouped.head(10))"
   ]
  },
  {
   "cell_type": "code",
   "execution_count": 319,
   "metadata": {},
   "outputs": [
    {
     "name": "stdout",
     "output_type": "stream",
     "text": [
      "Purchase ID    9\n",
      "SN             9\n",
      "Age            9\n",
      "Gender         9\n",
      "Item ID        9\n",
      "Item Name      9\n",
      "Price          9\n",
      "Total Count    9\n",
      "Age Range      9\n",
      "sum_column     9\n",
      "dtype: int64\n",
      "Purchase ID                                                 3960\n",
      "SN             Siala43Chadossa89Tyeosri53Chanadar44Assirra56I...\n",
      "Age                                                          217\n",
      "Gender                    MaleMaleMaleMaleMaleMaleMaleFemaleMale\n",
      "Item ID                                                     1188\n",
      "Item Name      PersuasionPersuasionPersuasionPersuasionPersua...\n",
      "Price                                                      28.99\n",
      "Total Count        30-3420-2420-2425-2920-2420-2425-2920-2420-24\n",
      "Age Range          30-3420-2420-2425-2920-2420-2425-2920-2420-24\n",
      "sum_column                                                  3960\n",
      "dtype: object\n"
     ]
    }
   ],
   "source": [
    "persuasion = pymoli_file_df.loc[pymoli_file_df[\"Item Name\"] == \"Persuasion\",:] \n",
    "print(persuasion.count())\n",
    "print(persuasion.sum())"
   ]
  },
  {
   "cell_type": "code",
   "execution_count": 321,
   "metadata": {},
   "outputs": [
    {
     "name": "stdout",
     "output_type": "stream",
     "text": [
      "Purchase ID    9\n",
      "SN             9\n",
      "Age            9\n",
      "Gender         9\n",
      "Item ID        9\n",
      "Item Name      9\n",
      "Price          9\n",
      "Total Count    9\n",
      "Age Range      9\n",
      "sum_column     9\n",
      "dtype: int64\n",
      "Purchase ID                                                 3484\n",
      "SN             Lisim78Raesty92Marast30Marokian45Saistyphos30F...\n",
      "Age                                                          223\n",
      "Gender                  MaleMaleFemaleMaleMaleMaleFemaleMaleMale\n",
      "Item ID                                                      972\n",
      "Item Name      Extraction, Quickblade Of Trembling HandsExtra...\n",
      "Price                                                      31.77\n",
      "Total Count        20-2410-1415-1920-2435-3935-3925-2920-2430-34\n",
      "Age Range          20-2410-1415-1920-2435-3935-3925-2920-2430-34\n",
      "sum_column                                                  3484\n",
      "dtype: object\n"
     ]
    }
   ],
   "source": [
    "extraction = pymoli_file_df.loc[pymoli_file_df[\"Item Name\"] == \"Extraction, Quickblade Of Trembling Hands\",:] \n",
    "print(extraction.count())\n",
    "print(extraction.sum())"
   ]
  },
  {
   "cell_type": "code",
   "execution_count": 322,
   "metadata": {},
   "outputs": [
    {
     "name": "stdout",
     "output_type": "stream",
     "text": [
      "                                      Item Name  Purchase Ct.  Item Price  \\\n",
      "0                                  Final Critic            13    4.614615   \n",
      "1  Oathbreaker, Last Hope of the Breaking Storm            12    4.230000   \n",
      "2                          Fiery Glass Crusader             9    4.580000   \n",
      "3                                    Persuasion             9    3.221111   \n",
      "4     Extraction, Quickblade Of Trembling Hands             9    3.530000   \n",
      "\n",
      "  Total Value  \n",
      "0      $59.99  \n",
      "1      $50.76  \n",
      "2      $41.22  \n",
      "3      $28.99  \n",
      "4      $31.77  \n"
     ]
    }
   ],
   "source": [
    "#Top Popular Items DataFrame\n",
    "\n",
    "top_popular_df = pd.DataFrame({\"Item Name\": [\"Final Critic\", \"Oathbreaker, Last Hope of the Breaking Storm\",\"Fiery Glass Crusader\", \"Persuasion\", \"Extraction, Quickblade Of Trembling Hands\"], \"Purchase Ct.\":[13,12,9,9,9], \"Item Price\": [59.99/13,50.76/12,41.22/9,28.99/9,31.77/9], \"Total Value\":[\"$59.99\",\"$50.76\",\"$41.22\",\"$28.99\",\"$31.77\"]})\n",
    "print(top_popular_df)"
   ]
  },
  {
   "cell_type": "code",
   "execution_count": 323,
   "metadata": {},
   "outputs": [
    {
     "name": "stdout",
     "output_type": "stream",
     "text": [
      "                                      Item Name  Purchase Ct. Item Price  \\\n",
      "0                                  Final Critic            13      $4.61   \n",
      "1  Oathbreaker, Last Hope of the Breaking Storm            12      $4.23   \n",
      "2                          Fiery Glass Crusader             9      $4.58   \n",
      "3                                    Persuasion             9      $3.22   \n",
      "4     Extraction, Quickblade Of Trembling Hands             9      $3.53   \n",
      "\n",
      "  Total Value  \n",
      "0      $59.99  \n",
      "1      $50.76  \n",
      "2      $41.22  \n",
      "3      $28.99  \n",
      "4      $31.77  \n"
     ]
    }
   ],
   "source": [
    "top_popular_df[\"Item Name\"] = top_popular_df[\"Item Name\"]\n",
    "top_popular_df[\"Purchase Ct.\"] = top_popular_df[\"Purchase Ct.\"]\n",
    "top_popular_df[\"Item Price\"] = top_popular_df[\"Item Price\"].map(\"${:.2f}\".format)\n",
    "top_popular_df[\"Total Value\"] = top_popular_df[\"Total Value\"]\n",
    "print(top_popular_df)"
   ]
  },
  {
   "cell_type": "code",
   "execution_count": null,
   "metadata": {},
   "outputs": [],
   "source": []
  }
 ],
 "metadata": {
  "kernelspec": {
   "display_name": "Python 3",
   "language": "python",
   "name": "python3"
  },
  "language_info": {
   "codemirror_mode": {
    "name": "ipython",
    "version": 3
   },
   "file_extension": ".py",
   "mimetype": "text/x-python",
   "name": "python",
   "nbconvert_exporter": "python",
   "pygments_lexer": "ipython3",
   "version": "3.6.10"
  }
 },
 "nbformat": 4,
 "nbformat_minor": 4
}
